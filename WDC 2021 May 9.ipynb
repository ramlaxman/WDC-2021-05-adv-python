{
 "cells": [
  {
   "cell_type": "markdown",
   "metadata": {},
   "source": [
    "# Agenda\n",
    "\n",
    "1. Data structures\n",
    "    - Deeper into basic structures\n",
    "    - New, advanced data structures\n",
    "2. Functions\n",
    "    - Function objects\n",
    "    - Attributes on the function object\n",
    "    - Parameters / arguments (positional vs. keyword)\n",
    "    - Scoping\n",
    "    - Nested function\n",
    "    - Storing functions + dispatch table\n",
    "3. Functional programming\n",
    "    - Comprehensions: List, dict, set, nested comprehension\n",
    "    - `lambda`\n",
    "    - Sorting and functions as arguments\n",
    "4. Objects\n",
    "    - Classes, methods, and instances\n",
    "    - Inheritance, multiple inheritance\n",
    "    - Attributes (ICPO) \n",
    "    - Magic methods\n",
    "    - Properties\n",
    "    - Descriptors\n",
    "5. Iterators and generators\n",
    "6. Decorators\n",
    "7. Threads, multiprocessing"
   ]
  },
  {
   "cell_type": "code",
   "execution_count": 2,
   "metadata": {},
   "outputs": [
    {
     "data": {
      "text/plain": [
       "100"
      ]
     },
     "execution_count": 2,
     "metadata": {},
     "output_type": "execute_result"
    }
   ],
   "source": [
    "x = 100      # x is a reference to 100\n",
    "y = x        # y is a reference to 100\n",
    "\n",
    "x = 200      # x is now a reference to 200, not 100\n",
    "y            # y continues to refer to 100"
   ]
  },
  {
   "cell_type": "code",
   "execution_count": 3,
   "metadata": {},
   "outputs": [
    {
     "data": {
      "text/plain": [
       "True"
      ]
     },
     "execution_count": 3,
     "metadata": {},
     "output_type": "execute_result"
    }
   ],
   "source": [
    "x = 100\n",
    "y = 100\n",
    "\n",
    "x == y"
   ]
  },
  {
   "cell_type": "code",
   "execution_count": 4,
   "metadata": {},
   "outputs": [
    {
     "data": {
      "text/plain": [
       "True"
      ]
     },
     "execution_count": 4,
     "metadata": {},
     "output_type": "execute_result"
    }
   ],
   "source": [
    "x is y     # are x and y referring to the same object?"
   ]
  },
  {
   "cell_type": "code",
   "execution_count": 5,
   "metadata": {},
   "outputs": [
    {
     "data": {
      "text/plain": [
       "True"
      ]
     },
     "execution_count": 5,
     "metadata": {},
     "output_type": "execute_result"
    }
   ],
   "source": [
    "x = 10000\n",
    "y = 10000\n",
    "\n",
    "x == y"
   ]
  },
  {
   "cell_type": "code",
   "execution_count": 6,
   "metadata": {},
   "outputs": [
    {
     "data": {
      "text/plain": [
       "False"
      ]
     },
     "execution_count": 6,
     "metadata": {},
     "output_type": "execute_result"
    }
   ],
   "source": [
    "x is y"
   ]
  },
  {
   "cell_type": "code",
   "execution_count": 7,
   "metadata": {},
   "outputs": [
    {
     "data": {
      "text/plain": [
       "4392048016"
      ]
     },
     "execution_count": 7,
     "metadata": {},
     "output_type": "execute_result"
    }
   ],
   "source": [
    "# \"id\" returns the unique ID of an object\n",
    "id(x)"
   ]
  },
  {
   "cell_type": "code",
   "execution_count": 8,
   "metadata": {},
   "outputs": [
    {
     "data": {
      "text/plain": [
       "4392047824"
      ]
     },
     "execution_count": 8,
     "metadata": {},
     "output_type": "execute_result"
    }
   ],
   "source": [
    "id(y)"
   ]
  },
  {
   "cell_type": "code",
   "execution_count": 9,
   "metadata": {},
   "outputs": [
    {
     "data": {
      "text/plain": [
       "False"
      ]
     },
     "execution_count": 9,
     "metadata": {},
     "output_type": "execute_result"
    }
   ],
   "source": [
    "# x is y    is the same as\n",
    "id(x) == id(y)"
   ]
  },
  {
   "cell_type": "code",
   "execution_count": 10,
   "metadata": {},
   "outputs": [
    {
     "name": "stdout",
     "output_type": "stream",
     "text": [
      "Yes, it is None!\n"
     ]
    }
   ],
   "source": [
    "x = None\n",
    "\n",
    "if x == None:   # not Pythonic\n",
    "    print('Yes, it is None!')"
   ]
  },
  {
   "cell_type": "code",
   "execution_count": 11,
   "metadata": {},
   "outputs": [
    {
     "name": "stdout",
     "output_type": "stream",
     "text": [
      "Yes, it is None!\n"
     ]
    }
   ],
   "source": [
    "if x is None:\n",
    "    print('Yes, it is None!')"
   ]
  },
  {
   "cell_type": "code",
   "execution_count": 12,
   "metadata": {},
   "outputs": [
    {
     "data": {
      "text/plain": [
       "True"
      ]
     },
     "execution_count": 12,
     "metadata": {},
     "output_type": "execute_result"
    }
   ],
   "source": [
    "x = 'abcd'\n",
    "y = 'abcd'\n",
    "\n",
    "x == y"
   ]
  },
  {
   "cell_type": "code",
   "execution_count": 13,
   "metadata": {},
   "outputs": [
    {
     "data": {
      "text/plain": [
       "True"
      ]
     },
     "execution_count": 13,
     "metadata": {},
     "output_type": "execute_result"
    }
   ],
   "source": [
    "x is y"
   ]
  },
  {
   "cell_type": "code",
   "execution_count": 14,
   "metadata": {},
   "outputs": [
    {
     "data": {
      "text/plain": [
       "True"
      ]
     },
     "execution_count": 14,
     "metadata": {},
     "output_type": "execute_result"
    }
   ],
   "source": [
    "x = 'abcd' * 10000\n",
    "y = 'abcd' * 10000\n",
    "\n",
    "x == y"
   ]
  },
  {
   "cell_type": "code",
   "execution_count": 15,
   "metadata": {},
   "outputs": [
    {
     "data": {
      "text/plain": [
       "False"
      ]
     },
     "execution_count": 15,
     "metadata": {},
     "output_type": "execute_result"
    }
   ],
   "source": [
    "x is y"
   ]
  },
  {
   "cell_type": "code",
   "execution_count": 16,
   "metadata": {},
   "outputs": [
    {
     "data": {
      "text/plain": [
       "True"
      ]
     },
     "execution_count": 16,
     "metadata": {},
     "output_type": "execute_result"
    }
   ],
   "source": [
    "x = 'ab.cd'\n",
    "y = 'ab.cd'\n",
    "\n",
    "x == y"
   ]
  },
  {
   "cell_type": "code",
   "execution_count": 17,
   "metadata": {},
   "outputs": [
    {
     "data": {
      "text/plain": [
       "False"
      ]
     },
     "execution_count": 17,
     "metadata": {},
     "output_type": "execute_result"
    }
   ],
   "source": [
    "x is y"
   ]
  },
  {
   "cell_type": "code",
   "execution_count": 18,
   "metadata": {},
   "outputs": [],
   "source": [
    "a = 12345"
   ]
  },
  {
   "cell_type": "code",
   "execution_count": 19,
   "metadata": {},
   "outputs": [
    {
     "data": {
      "text/plain": [
       "12345"
      ]
     },
     "execution_count": 19,
     "metadata": {},
     "output_type": "execute_result"
    }
   ],
   "source": [
    "a"
   ]
  },
  {
   "cell_type": "code",
   "execution_count": 20,
   "metadata": {
    "collapsed": true
   },
   "outputs": [
    {
     "data": {
      "text/plain": [
       "{'__name__': '__main__',\n",
       " '__doc__': 'Automatically created module for IPython interactive environment',\n",
       " '__package__': None,\n",
       " '__loader__': None,\n",
       " '__spec__': None,\n",
       " '__builtin__': <module 'builtins' (built-in)>,\n",
       " '__builtins__': <module 'builtins' (built-in)>,\n",
       " '_ih': ['',\n",
       "  'x = 100\\ny = x\\n\\nx = 200\\ny',\n",
       "  'x = 100      # x is a reference to 100\\ny = x        # y is a reference to 100\\n\\nx = 200      # x is now a reference to 200, not 100\\ny            # y continues to refer to 100',\n",
       "  'x = 100\\ny = 100\\n\\nx == y',\n",
       "  'x is y     # are x and y referring to the same object?',\n",
       "  'x = 10000\\ny = 10000\\n\\nx == y',\n",
       "  'x is y',\n",
       "  '# \"id\" returns the unique ID of an object\\nid(x)',\n",
       "  'id(y)',\n",
       "  '# x is y    is the same as\\nid(x) == id(y)',\n",
       "  \"x = None\\n\\nif x == None:\\n    print('Yes, it is None!')\",\n",
       "  \"if x is None:\\n    print('Yes, it is None!')\",\n",
       "  \"x = 'abcd'\\ny = 'abcd'\\n\\nx == y\",\n",
       "  'x is y',\n",
       "  \"x = 'abcd' * 10000\\ny = 'abcd' * 10000\\n\\nx == y\",\n",
       "  'x is y',\n",
       "  \"x = 'ab.cd'\\ny = 'ab.cd'\\n\\nx == y\",\n",
       "  'x is y',\n",
       "  'a = 12345',\n",
       "  'a',\n",
       "  'globals()'],\n",
       " '_oh': {1: 100,\n",
       "  2: 100,\n",
       "  3: True,\n",
       "  4: True,\n",
       "  5: True,\n",
       "  6: False,\n",
       "  7: 4392048016,\n",
       "  8: 4392047824,\n",
       "  9: False,\n",
       "  12: True,\n",
       "  13: True,\n",
       "  14: True,\n",
       "  15: False,\n",
       "  16: True,\n",
       "  17: False,\n",
       "  19: 12345},\n",
       " '_dh': ['/Users/reuven/Courses/Current/WDC-2021-05-adv-python'],\n",
       " 'In': ['',\n",
       "  'x = 100\\ny = x\\n\\nx = 200\\ny',\n",
       "  'x = 100      # x is a reference to 100\\ny = x        # y is a reference to 100\\n\\nx = 200      # x is now a reference to 200, not 100\\ny            # y continues to refer to 100',\n",
       "  'x = 100\\ny = 100\\n\\nx == y',\n",
       "  'x is y     # are x and y referring to the same object?',\n",
       "  'x = 10000\\ny = 10000\\n\\nx == y',\n",
       "  'x is y',\n",
       "  '# \"id\" returns the unique ID of an object\\nid(x)',\n",
       "  'id(y)',\n",
       "  '# x is y    is the same as\\nid(x) == id(y)',\n",
       "  \"x = None\\n\\nif x == None:\\n    print('Yes, it is None!')\",\n",
       "  \"if x is None:\\n    print('Yes, it is None!')\",\n",
       "  \"x = 'abcd'\\ny = 'abcd'\\n\\nx == y\",\n",
       "  'x is y',\n",
       "  \"x = 'abcd' * 10000\\ny = 'abcd' * 10000\\n\\nx == y\",\n",
       "  'x is y',\n",
       "  \"x = 'ab.cd'\\ny = 'ab.cd'\\n\\nx == y\",\n",
       "  'x is y',\n",
       "  'a = 12345',\n",
       "  'a',\n",
       "  'globals()'],\n",
       " 'Out': {1: 100,\n",
       "  2: 100,\n",
       "  3: True,\n",
       "  4: True,\n",
       "  5: True,\n",
       "  6: False,\n",
       "  7: 4392048016,\n",
       "  8: 4392047824,\n",
       "  9: False,\n",
       "  12: True,\n",
       "  13: True,\n",
       "  14: True,\n",
       "  15: False,\n",
       "  16: True,\n",
       "  17: False,\n",
       "  19: 12345},\n",
       " 'get_ipython': <bound method InteractiveShell.get_ipython of <ipykernel.zmqshell.ZMQInteractiveShell object at 0x105b6c0d0>>,\n",
       " 'exit': <IPython.core.autocall.ZMQExitAutocall at 0x105c2d490>,\n",
       " 'quit': <IPython.core.autocall.ZMQExitAutocall at 0x105c2d490>,\n",
       " '_': 12345,\n",
       " '__': False,\n",
       " '___': True,\n",
       " '_i': 'a',\n",
       " '_ii': 'a = 12345',\n",
       " '_iii': 'x is y',\n",
       " '_i1': 'x = 100\\ny = x\\n\\nx = 200\\ny',\n",
       " 'x': 'ab.cd',\n",
       " 'y': 'ab.cd',\n",
       " '_1': 100,\n",
       " '_i2': 'x = 100      # x is a reference to 100\\ny = x        # y is a reference to 100\\n\\nx = 200      # x is now a reference to 200, not 100\\ny            # y continues to refer to 100',\n",
       " '_2': 100,\n",
       " '_i3': 'x = 100\\ny = 100\\n\\nx == y',\n",
       " '_3': True,\n",
       " '_i4': 'x is y     # are x and y referring to the same object?',\n",
       " '_4': True,\n",
       " '_i5': 'x = 10000\\ny = 10000\\n\\nx == y',\n",
       " '_5': True,\n",
       " '_i6': 'x is y',\n",
       " '_6': False,\n",
       " '_i7': '# \"id\" returns the unique ID of an object\\nid(x)',\n",
       " '_7': 4392048016,\n",
       " '_i8': 'id(y)',\n",
       " '_8': 4392047824,\n",
       " '_i9': '# x is y    is the same as\\nid(x) == id(y)',\n",
       " '_9': False,\n",
       " '_i10': \"x = None\\n\\nif x == None:\\n    print('Yes, it is None!')\",\n",
       " '_i11': \"if x is None:\\n    print('Yes, it is None!')\",\n",
       " '_i12': \"x = 'abcd'\\ny = 'abcd'\\n\\nx == y\",\n",
       " '_12': True,\n",
       " '_i13': 'x is y',\n",
       " '_13': True,\n",
       " '_i14': \"x = 'abcd' * 10000\\ny = 'abcd' * 10000\\n\\nx == y\",\n",
       " '_14': True,\n",
       " '_i15': 'x is y',\n",
       " '_15': False,\n",
       " '_i16': \"x = 'ab.cd'\\ny = 'ab.cd'\\n\\nx == y\",\n",
       " '_16': True,\n",
       " '_i17': 'x is y',\n",
       " '_17': False,\n",
       " '_i18': 'a = 12345',\n",
       " 'a': 12345,\n",
       " '_i19': 'a',\n",
       " '_19': 12345,\n",
       " '_i20': 'globals()'}"
      ]
     },
     "execution_count": 20,
     "metadata": {},
     "output_type": "execute_result"
    }
   ],
   "source": [
    "globals()"
   ]
  },
  {
   "cell_type": "code",
   "execution_count": 21,
   "metadata": {},
   "outputs": [
    {
     "data": {
      "text/plain": [
       "246"
      ]
     },
     "execution_count": 21,
     "metadata": {},
     "output_type": "execute_result"
    }
   ],
   "source": [
    "a = 246\n",
    "globals()['a']"
   ]
  },
  {
   "cell_type": "code",
   "execution_count": 22,
   "metadata": {},
   "outputs": [],
   "source": [
    "globals()['a'] = 9876"
   ]
  },
  {
   "cell_type": "code",
   "execution_count": 23,
   "metadata": {},
   "outputs": [
    {
     "data": {
      "text/plain": [
       "9876"
      ]
     },
     "execution_count": 23,
     "metadata": {},
     "output_type": "execute_result"
    }
   ],
   "source": [
    "a"
   ]
  },
  {
   "cell_type": "code",
   "execution_count": 25,
   "metadata": {},
   "outputs": [],
   "source": [
    "import sys\n",
    "\n",
    "x = sys.intern('abc.def!')\n",
    "y = sys.intern('abc.def!')\n",
    "\n"
   ]
  },
  {
   "cell_type": "code",
   "execution_count": 26,
   "metadata": {},
   "outputs": [
    {
     "data": {
      "text/plain": [
       "True"
      ]
     },
     "execution_count": 26,
     "metadata": {},
     "output_type": "execute_result"
    }
   ],
   "source": [
    "x is y"
   ]
  },
  {
   "cell_type": "code",
   "execution_count": 27,
   "metadata": {},
   "outputs": [],
   "source": [
    "x = 1"
   ]
  },
  {
   "cell_type": "code",
   "execution_count": 28,
   "metadata": {},
   "outputs": [
    {
     "data": {
      "text/plain": [
       "28"
      ]
     },
     "execution_count": 28,
     "metadata": {},
     "output_type": "execute_result"
    }
   ],
   "source": [
    "import sys\n",
    "sys.getsizeof(x)"
   ]
  },
  {
   "cell_type": "code",
   "execution_count": 29,
   "metadata": {},
   "outputs": [
    {
     "data": {
      "text/plain": [
       "28"
      ]
     },
     "execution_count": 29,
     "metadata": {},
     "output_type": "execute_result"
    }
   ],
   "source": [
    "x = 12345\n",
    "sys.getsizeof(x)"
   ]
  },
  {
   "cell_type": "code",
   "execution_count": 30,
   "metadata": {},
   "outputs": [
    {
     "data": {
      "text/plain": [
       "1840"
      ]
     },
     "execution_count": 30,
     "metadata": {},
     "output_type": "execute_result"
    }
   ],
   "source": [
    "x = x ** 1000\n",
    "sys.getsizeof(x)"
   ]
  },
  {
   "cell_type": "code",
   "execution_count": 31,
   "metadata": {},
   "outputs": [
    {
     "data": {
      "text/plain": [
       "1812244"
      ]
     },
     "execution_count": 31,
     "metadata": {},
     "output_type": "execute_result"
    }
   ],
   "source": [
    "x = x ** 1000\n",
    "sys.getsizeof(x)"
   ]
  },
  {
   "cell_type": "code",
   "execution_count": 32,
   "metadata": {},
   "outputs": [
    {
     "data": {
      "text/plain": [
       "0.30000000000000004"
      ]
     },
     "execution_count": 32,
     "metadata": {},
     "output_type": "execute_result"
    }
   ],
   "source": [
    "0.1 + 0.2"
   ]
  },
  {
   "cell_type": "code",
   "execution_count": 33,
   "metadata": {},
   "outputs": [
    {
     "data": {
      "text/plain": [
       "False"
      ]
     },
     "execution_count": 33,
     "metadata": {},
     "output_type": "execute_result"
    }
   ],
   "source": [
    "0.1 + 0.2 == 0.3"
   ]
  },
  {
   "cell_type": "code",
   "execution_count": 34,
   "metadata": {},
   "outputs": [
    {
     "data": {
      "text/plain": [
       "0.30000000000000004"
      ]
     },
     "execution_count": 34,
     "metadata": {},
     "output_type": "execute_result"
    }
   ],
   "source": [
    "x = 0.1 + 0.2\n",
    "x"
   ]
  },
  {
   "cell_type": "code",
   "execution_count": 35,
   "metadata": {},
   "outputs": [
    {
     "data": {
      "text/plain": [
       "0.3"
      ]
     },
     "execution_count": 35,
     "metadata": {},
     "output_type": "execute_result"
    }
   ],
   "source": [
    "round(x, 2)"
   ]
  },
  {
   "cell_type": "code",
   "execution_count": null,
   "metadata": {},
   "outputs": [],
   "source": []
  }
 ],
 "metadata": {
  "kernelspec": {
   "display_name": "Python 3",
   "language": "python",
   "name": "python3"
  },
  "language_info": {
   "codemirror_mode": {
    "name": "ipython",
    "version": 3
   },
   "file_extension": ".py",
   "mimetype": "text/x-python",
   "name": "python",
   "nbconvert_exporter": "python",
   "pygments_lexer": "ipython3",
   "version": "3.9.5"
  }
 },
 "nbformat": 4,
 "nbformat_minor": 4
}
