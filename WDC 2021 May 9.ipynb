{
 "cells": [
  {
   "cell_type": "markdown",
   "metadata": {},
   "source": [
    "# Agenda\n",
    "\n",
    "1. Data structures\n",
    "    - Deeper into basic structures\n",
    "    - New, advanced data structures\n",
    "2. Functions\n",
    "    - Function objects\n",
    "    - Attributes on the function object\n",
    "    - Parameters / arguments (positional vs. keyword)\n",
    "    - Scoping\n",
    "    - Nested function\n",
    "    - Storing functions + dispatch table\n",
    "3. Functional programming\n",
    "    - Comprehensions: List, dict, set, nested comprehension\n",
    "    - `lambda`\n",
    "    - Sorting and functions as arguments\n",
    "4. Objects\n",
    "    - Classes, methods, and instances\n",
    "    - Inheritance, multiple inheritance\n",
    "    - Attributes (ICPO) \n",
    "    - Magic methods\n",
    "    - Properties\n",
    "    - Descriptors\n",
    "5. Iterators and generators\n",
    "6. Decorators\n",
    "7. Threads, multiprocessing"
   ]
  },
  {
   "cell_type": "code",
   "execution_count": 1,
   "metadata": {},
   "outputs": [
    {
     "data": {
      "text/plain": [
       "100"
      ]
     },
     "execution_count": 1,
     "metadata": {},
     "output_type": "execute_result"
    }
   ],
   "source": [
    "x = 100\n",
    "y = x\n",
    "\n",
    "x = 200\n",
    "y"
   ]
  },
  {
   "cell_type": "code",
   "execution_count": null,
   "metadata": {},
   "outputs": [],
   "source": []
  }
 ],
 "metadata": {
  "kernelspec": {
   "display_name": "Python 3",
   "language": "python",
   "name": "python3"
  },
  "language_info": {
   "codemirror_mode": {
    "name": "ipython",
    "version": 3
   },
   "file_extension": ".py",
   "mimetype": "text/x-python",
   "name": "python",
   "nbconvert_exporter": "python",
   "pygments_lexer": "ipython3",
   "version": "3.9.5"
  }
 },
 "nbformat": 4,
 "nbformat_minor": 4
}
